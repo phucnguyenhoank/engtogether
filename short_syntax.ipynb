{
 "cells": [
  {
   "cell_type": "code",
   "execution_count": null,
   "id": "d892fc82",
   "metadata": {},
   "outputs": [
    {
     "name": "stdout",
     "output_type": "stream",
     "text": [
      "['Hello!', 'How are you?', 'I am fine.']\n",
      "Hello! How are you? I am fine.\n"
     ]
    }
   ],
   "source": [
    "\n",
    "text = \"Hello! How are you? I am fine.\"\n",
    "sents = split_sentences(text)\n",
    "print(sents)  \n",
    "# ['Hello!', 'How are you?', 'I am fine.']\n",
    "\n",
    "joined = join_sentences(sents)\n",
    "print(joined)\n",
    "# \"Hello! How are you? I am fine.\"\n"
   ]
  },
  {
   "cell_type": "code",
   "execution_count": 3,
   "id": "d8f063d4",
   "metadata": {},
   "outputs": [],
   "source": [
    "from backend.services.pygect5_service import fix_spelling_text\n",
    "from backend.utils.text_processing import split_sentences, join_sentences\n",
    "\n"
   ]
  },
  {
   "cell_type": "code",
   "execution_count": 4,
   "id": "ce24cac5",
   "metadata": {},
   "outputs": [
    {
     "name": "stderr",
     "output_type": "stream",
     "text": [
      "c:\\code\\engtogether\\.venv\\Lib\\site-packages\\torch\\utils\\data\\dataloader.py:666: UserWarning: 'pin_memory' argument is set as true but no accelerator is found, then device pinned memory won't be used.\n",
      "  warnings.warn(warn_msg)\n"
     ]
    },
    {
     "name": "stdout",
     "output_type": "stream",
     "text": [
      "[what's you name? what are you name? today is my best day in HCM, it work so great this is so   bad (good) I doesn't like you]\n"
     ]
    },
    {
     "name": "stderr",
     "output_type": "stream",
     "text": [
      "100%|██████████| 1/1 [00:07<00:00,  7.22s/it]"
     ]
    },
    {
     "name": "stdout",
     "output_type": "stream",
     "text": [
      "[What's your name? What is your name? Today is my best day in HCM. It works so great. This is so bad (good) I don't like you.]\n"
     ]
    },
    {
     "name": "stderr",
     "output_type": "stream",
     "text": [
      "\n"
     ]
    }
   ],
   "source": [
    "sentences = [\n",
    "    \"what's you name?\",\n",
    "    \"what are you name?\",\n",
    "    \"today is my best day in HCM, it work so great\",\n",
    "    \"this is so   bad (good)\",\n",
    "    \"I doesn't like you\"\n",
    "]\n",
    "\n",
    "\n",
    "text = join_sentences(sentences)\n",
    "print(f\"[{text}]\")\n",
    "out_text = fix_spelling_text(text)\n",
    "print(f\"[{out_text}]\")"
   ]
  },
  {
   "cell_type": "code",
   "execution_count": null,
   "id": "047fa4ab",
   "metadata": {},
   "outputs": [],
   "source": []
  }
 ],
 "metadata": {
  "kernelspec": {
   "display_name": "engtogether (3.12.11)",
   "language": "python",
   "name": "python3"
  },
  "language_info": {
   "codemirror_mode": {
    "name": "ipython",
    "version": 3
   },
   "file_extension": ".py",
   "mimetype": "text/x-python",
   "name": "python",
   "nbconvert_exporter": "python",
   "pygments_lexer": "ipython3",
   "version": "3.12.11"
  }
 },
 "nbformat": 4,
 "nbformat_minor": 5
}
