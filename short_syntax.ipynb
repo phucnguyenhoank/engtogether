{
 "cells": [
  {
   "cell_type": "code",
   "execution_count": null,
   "id": "7cf45675",
   "metadata": {},
   "outputs": [
    {
     "name": "stdout",
     "output_type": "stream",
     "text": [
      "False\n",
      "False\n",
      "['I', 'wantt', 'to', 'knw', 'about', 'what', 'foods', 'I', 'can', 'eat', '.', 'Presrspective', '.']\n",
      "presrspective\n",
      "perspective\n",
      "\n",
      "wantt\n",
      "want\n",
      "\n",
      "knw\n",
      "know\n",
      "\n"
     ]
    }
   ],
   "source": []
  },
  {
   "cell_type": "code",
   "execution_count": null,
   "id": "45a84510",
   "metadata": {},
   "outputs": [],
   "source": []
  }
 ],
 "metadata": {
  "kernelspec": {
   "display_name": "engtogether",
   "language": "python",
   "name": "python3"
  },
  "language_info": {
   "codemirror_mode": {
    "name": "ipython",
    "version": 3
   },
   "file_extension": ".py",
   "mimetype": "text/x-python",
   "name": "python",
   "nbconvert_exporter": "python",
   "pygments_lexer": "ipython3",
   "version": "3.12.4"
  }
 },
 "nbformat": 4,
 "nbformat_minor": 5
}
