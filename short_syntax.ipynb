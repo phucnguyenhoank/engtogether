{
 "cells": [
  {
   "cell_type": "code",
   "execution_count": 1,
   "id": "7cf45675",
   "metadata": {},
   "outputs": [],
   "source": [
    "from backend.models.spelling_model import SpellingModel\n",
    "from backend.models.coedit_model import CoEdITModel\n",
    "\n",
    "# text = \"Today, I worked so hard, but my girlfriend was not understand me. She just blames me that I did not care her.\"\n"
   ]
  },
  {
   "cell_type": "code",
   "execution_count": 2,
   "id": "9f963782",
   "metadata": {},
   "outputs": [
    {
     "name": "stdout",
     "output_type": "stream",
     "text": [
      "{'axomoni', 'yourr'}\n",
      "['what', 'is', 'your', 'name', '?', None]\n"
     ]
    },
    {
     "ename": "TypeError",
     "evalue": "sequence item 5: expected str instance, NoneType found",
     "output_type": "error",
     "traceback": [
      "\u001b[31m---------------------------------------------------------------------------\u001b[39m",
      "\u001b[31mTypeError\u001b[39m                                 Traceback (most recent call last)",
      "\u001b[36mCell\u001b[39m\u001b[36m \u001b[39m\u001b[32mIn[2]\u001b[39m\u001b[32m, line 4\u001b[39m\n\u001b[32m      1\u001b[39m text = \u001b[33m\"\u001b[39m\u001b[33mwhat is yourr name? axomoni\u001b[39m\u001b[33m\"\u001b[39m\n\u001b[32m      3\u001b[39m spelling_model = SpellingModel()\n\u001b[32m----> \u001b[39m\u001b[32m4\u001b[39m no_spelling_mistake_text = \u001b[43mspelling_model\u001b[49m\u001b[43m.\u001b[49m\u001b[43mfix_spelling\u001b[49m\u001b[43m(\u001b[49m\u001b[43mtext\u001b[49m\u001b[43m)\u001b[49m\n\u001b[32m      5\u001b[39m \u001b[38;5;28mprint\u001b[39m(no_spelling_mistake_text)\n\u001b[32m      7\u001b[39m \u001b[38;5;66;03m# coedit = CoEdITModel()\u001b[39;00m\n\u001b[32m      8\u001b[39m \u001b[38;5;66;03m# coedited_text = coedit.edit_sentence(no_spelling_mistake_text)\u001b[39;00m\n\u001b[32m      9\u001b[39m \u001b[38;5;66;03m# print(coedited_text)\u001b[39;00m\n",
      "\u001b[36mFile \u001b[39m\u001b[32mc:\\code\\engtogether\\backend\\models\\spelling_model.py:29\u001b[39m, in \u001b[36mSpellingModel.fix_spelling\u001b[39m\u001b[34m(self, text)\u001b[39m\n\u001b[32m     27\u001b[39m         corrected_tokens.append(token)\n\u001b[32m     28\u001b[39m \u001b[38;5;28mprint\u001b[39m(corrected_tokens)\n\u001b[32m---> \u001b[39m\u001b[32m29\u001b[39m corrected_text = \u001b[33;43m\"\u001b[39;49m\u001b[33;43m \u001b[39;49m\u001b[33;43m\"\u001b[39;49m\u001b[43m.\u001b[49m\u001b[43mjoin\u001b[49m\u001b[43m(\u001b[49m\u001b[43mcorrected_tokens\u001b[49m\u001b[43m)\u001b[49m\n\u001b[32m     30\u001b[39m \u001b[38;5;66;03m# delete spacing before punctuation\u001b[39;00m\n\u001b[32m     31\u001b[39m \u001b[38;5;28;01mreturn\u001b[39;00m re.sub(\u001b[33mr\u001b[39m\u001b[33m\"\u001b[39m\u001b[33m\\\u001b[39m\u001b[33ms+([.,!?;:])\u001b[39m\u001b[33m\"\u001b[39m, \u001b[33mr\u001b[39m\u001b[33m\"\u001b[39m\u001b[33m\\\u001b[39m\u001b[33m1\u001b[39m\u001b[33m\"\u001b[39m, corrected_text)\n",
      "\u001b[31mTypeError\u001b[39m: sequence item 5: expected str instance, NoneType found"
     ]
    }
   ],
   "source": [
    "text = \"what is yourr name? axomoni\"\n",
    "\n",
    "spelling_model = SpellingModel()\n",
    "no_spelling_mistake_text = spelling_model.fix_spelling(text)\n",
    "print(no_spelling_mistake_text)\n",
    "\n",
    "# coedit = CoEdITModel()\n",
    "# coedited_text = coedit.edit_sentence(no_spelling_mistake_text)\n",
    "# print(coedited_text)\n"
   ]
  },
  {
   "cell_type": "code",
   "execution_count": null,
   "id": "076490cf",
   "metadata": {},
   "outputs": [],
   "source": [
    "\n",
    "\n",
    "\n"
   ]
  }
 ],
 "metadata": {
  "kernelspec": {
   "display_name": "engtogether (3.12.11)",
   "language": "python",
   "name": "python3"
  },
  "language_info": {
   "codemirror_mode": {
    "name": "ipython",
    "version": 3
   },
   "file_extension": ".py",
   "mimetype": "text/x-python",
   "name": "python",
   "nbconvert_exporter": "python",
   "pygments_lexer": "ipython3",
   "version": "3.12.11"
  }
 },
 "nbformat": 4,
 "nbformat_minor": 5
}
