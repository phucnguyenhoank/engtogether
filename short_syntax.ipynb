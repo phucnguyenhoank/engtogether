{
 "cells": [
  {
   "cell_type": "code",
   "execution_count": null,
   "id": "7cf45675",
   "metadata": {},
   "outputs": [],
   "source": [
    "from backend.models.spelling_model import SpellingModel\n",
    "from backend.models.coedit_model import CoEdITModel\n",
    "\n",
    "# text = \"Today, I worked so hard, but my girlfriend was not understand me. She just blames me that I did not care her.\"\n"
   ]
  },
  {
   "cell_type": "code",
   "execution_count": 2,
   "id": "9f963782",
   "metadata": {},
   "outputs": [
    {
     "name": "stdout",
     "output_type": "stream",
     "text": [
      "What is my name?\n",
      "What's my name? Is it a girl or a boy?\n"
     ]
    }
   ],
   "source": [
    "text = \"What is my name?\"\n",
    "\n",
    "spelling_model = SpellingModel()\n",
    "no_spelling_mistake_text = spelling_model.fix_spelling(text)\n",
    "print(no_spelling_mistake_text)\n",
    "\n",
    "coedit = CoEdITModel()\n",
    "coedited_text = coedit.edit_sentence(no_spelling_mistake_text)\n",
    "print(coedited_text)\n"
   ]
  },
  {
   "cell_type": "code",
   "execution_count": null,
   "id": "076490cf",
   "metadata": {},
   "outputs": [],
   "source": [
    "\n",
    "\n",
    "\n"
   ]
  }
 ],
 "metadata": {
  "kernelspec": {
   "display_name": "engtogether (3.12.11)",
   "language": "python",
   "name": "python3"
  },
  "language_info": {
   "codemirror_mode": {
    "name": "ipython",
    "version": 3
   },
   "file_extension": ".py",
   "mimetype": "text/x-python",
   "name": "python",
   "nbconvert_exporter": "python",
   "pygments_lexer": "ipython3",
   "version": "3.12.11"
  }
 },
 "nbformat": 4,
 "nbformat_minor": 5
}
