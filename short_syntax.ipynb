{
 "cells": [
  {
   "cell_type": "code",
   "execution_count": 1,
   "id": "7cf45675",
   "metadata": {},
   "outputs": [],
   "source": [
    "from backend.models.coedit_model import CoEdITModel\n",
    "\n",
    "input_text = 'Rewrite to make this easier to understand: Today, I worked so hard, but my girlfriend was not understand me, she just blames me that I did not care her.'\n",
    "model = CoEdITModel()\n",
    "\n"
   ]
  },
  {
   "cell_type": "code",
   "execution_count": 2,
   "id": "f2019d5f",
   "metadata": {},
   "outputs": [
    {
     "data": {
      "text/plain": [
       "\"I worked so hard today, but my girlfriend didn't understand me. She just blamed me for not caring about her.\""
      ]
     },
     "execution_count": 2,
     "metadata": {},
     "output_type": "execute_result"
    }
   ],
   "source": [
    "model.correct_sentence(input_text)\n"
   ]
  },
  {
   "cell_type": "code",
   "execution_count": null,
   "id": "076490cf",
   "metadata": {},
   "outputs": [],
   "source": [
    "\n",
    "\n",
    "\n"
   ]
  }
 ],
 "metadata": {
  "kernelspec": {
   "display_name": "engtogether (3.12.11)",
   "language": "python",
   "name": "python3"
  },
  "language_info": {
   "codemirror_mode": {
    "name": "ipython",
    "version": 3
   },
   "file_extension": ".py",
   "mimetype": "text/x-python",
   "name": "python",
   "nbconvert_exporter": "python",
   "pygments_lexer": "ipython3",
   "version": "3.12.11"
  }
 },
 "nbformat": 4,
 "nbformat_minor": 5
}
