{
 "cells": [
  {
   "cell_type": "code",
   "execution_count": 3,
   "id": "7cf45675",
   "metadata": {},
   "outputs": [],
   "source": [
    "from backend.services.coedit_service import *\n",
    "\n",
    "text = \"Today, I worked so hard, but my girlfriend was not understand me. She just blames me that I did not care her.\"\n",
    "\n"
   ]
  },
  {
   "cell_type": "code",
   "execution_count": 4,
   "id": "9f963782",
   "metadata": {},
   "outputs": [
    {
     "name": "stdout",
     "output_type": "stream",
     "text": [
      "['Today, I worked so hard, but my girlfriend was not understand me.', 'She just blames me that I did not care her.']\n"
     ]
    },
    {
     "data": {
      "text/plain": [
       "\"I worked so hard today, but my girlfriend didn't understand me. She just blames me that I did not care about her.\""
      ]
     },
     "execution_count": 4,
     "metadata": {},
     "output_type": "execute_result"
    }
   ],
   "source": [
    "o1 = split_to_sentences(text)\n",
    "print(o1)\n",
    "process_text(text)"
   ]
  },
  {
   "cell_type": "code",
   "execution_count": null,
   "id": "076490cf",
   "metadata": {},
   "outputs": [],
   "source": [
    "\n",
    "\n",
    "\n"
   ]
  }
 ],
 "metadata": {
  "kernelspec": {
   "display_name": "engtogether (3.12.11)",
   "language": "python",
   "name": "python3"
  },
  "language_info": {
   "codemirror_mode": {
    "name": "ipython",
    "version": 3
   },
   "file_extension": ".py",
   "mimetype": "text/x-python",
   "name": "python",
   "nbconvert_exporter": "python",
   "pygments_lexer": "ipython3",
   "version": "3.12.11"
  }
 },
 "nbformat": 4,
 "nbformat_minor": 5
}
